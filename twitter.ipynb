{
 "cells": [
  {
   "cell_type": "markdown",
   "metadata": {},
   "source": [
    "# Read tweets and dump to file with Pickle"
   ]
  },
  {
   "cell_type": "code",
   "execution_count": 15,
   "metadata": {},
   "outputs": [],
   "source": [
    "from twitter_keys import setupAPI\n",
    "import pickle\n",
    "\n",
    "api = setupAPI()\n",
    "\n",
    "public_tweets = api.user_timeline('AlYankovik')\n",
    "\n",
    "with open('WeirdAl.pkl', 'wb') as f:\n",
    "    pickle.dump(public_tweets, f)"
   ]
  },
  {
   "cell_type": "markdown",
   "metadata": {},
   "source": [
    "# Use cached tweets for analysis"
   ]
  },
  {
   "cell_type": "code",
   "execution_count": 16,
   "metadata": {},
   "outputs": [],
   "source": [
    "import pickle\n",
    "\n",
    "with open('WeirdAl.pkl', 'rb') as f:\n",
    "    public_tweets = pickle.load(f)"
   ]
  },
  {
   "cell_type": "markdown",
   "metadata": {},
   "source": [
    "# Printing Tweets and Data"
   ]
  },
  {
   "cell_type": "code",
   "execution_count": 17,
   "metadata": {},
   "outputs": [
    {
     "name": "stdout",
     "output_type": "stream",
     "text": [
      "[\"Oo-ee-oo I look just like Amy Grossberg, oh oh and you're Brian Peterson.\", 'I smell sex in Qandahar', 'Blood sausage on rye: afternoon meat piiiiie.', \"I don't want no shrubs. A shrub is a bush that won't grow into a tree.\", \"I'm a teeny little model, you gotta paint me the right way.\", 'Twice Twice baby, two-fold, two-fold', \"There's a hole in my fart that can only be filled by poo\"]\n"
     ]
    }
   ],
   "source": [
    "tweet_texts = [status.text for status in public_tweets]\n",
    "\n",
    "#texts = []\n",
    "#for status in public_tweets:\n",
    "#    texts.append(status.text)\n",
    "\n",
    "#maptexts = list(map(lambda x: x.text, public_tweets))\n",
    "\n",
    "print(tweet_texts)\n",
    "#print(texts)\n",
    "#print(maptexts)"
   ]
  },
  {
   "cell_type": "code",
   "execution_count": 18,
   "metadata": {},
   "outputs": [
    {
     "name": "stdout",
     "output_type": "stream",
     "text": [
      "[13, 5, 7, 16, 12, 5, 13]\n",
      "Blood sausage on rye: afternoon meat piiiiie.\n"
     ]
    }
   ],
   "source": [
    "tweet_lengths = [len(text.split()) for text in tweet_texts]\n",
    "\n",
    "#lengths = []\n",
    "#for text in tweet_texts:\n",
    "#    lengths.append(len(text.split()))\n",
    "\n",
    "print(tweet_lengths)\n",
    "print(tweet_texts[2])"
   ]
  },
  {
   "cell_type": "code",
   "execution_count": 19,
   "metadata": {},
   "outputs": [
    {
     "data": {
      "text/plain": [
       "(array([2., 1., 0., 0., 0., 0., 1., 2., 0., 1.]),\n",
       " array([ 5. ,  6.1,  7.2,  8.3,  9.4, 10.5, 11.6, 12.7, 13.8, 14.9, 16. ]),\n",
       " <a list of 10 Patch objects>)"
      ]
     },
     "execution_count": 19,
     "metadata": {},
     "output_type": "execute_result"
    },
    {
     "data": {
      "image/png": "[encoded data removed]",
      "text/plain": [
       "<Figure size 432x288 with 1 Axes>"
      ]
     },
     "metadata": {
      "needs_background": "light"
     },
     "output_type": "display_data"
    }
   ],
   "source": [
    "import matplotlib.pyplot as plt\n",
    "plt.hist(tweet_lengths)"
   ]
  },
  {
   "cell_type": "markdown",
   "metadata": {},
   "source": [
    "# Using my own methods"
   ]
  },
  {
   "cell_type": "code",
   "execution_count": 22,
   "metadata": {},
   "outputs": [],
   "source": [
    "from twitter_files import writeTweets, loadTweets, getPublicTweets\n",
    "from twitter_keys import setupAPI\n",
    "\n",
    "# always get API first\n",
    "api = setupAPI()\n",
    "\n",
    "# define for your user and file names\n",
    "user = 'realDonaldTrump'\n",
    "file = 'trump.pkl'\n",
    "\n",
    "# get tweets from a user\n",
    "public_tweets = getPublicTweets(user, api)\n",
    "\n",
    "# write tweets to file\n",
    "writeTweets(file, public_tweets)"
   ]
  },
  {
   "cell_type": "code",
   "execution_count": 23,
   "metadata": {},
   "outputs": [
    {
     "name": "stdout",
     "output_type": "stream",
     "text": [
      "['RT @realDonaldTrump: https://t.co/66006PDuKf', '“Schiff blasted for not focusing on California homeless.” @foxandfriends  His District is in terrible shape. He is… https://t.co/GEz3MsMa9Z', 'https://t.co/66006PDuKf', 'https://t.co/pXexddCGtT', 'Just received a briefing on the Coronavirus in China from all of our GREAT agencies, who are also working closely w… https://t.co/3JD0tWoy2a', 'Nancy Pelosi wants Congress to take away authority Presidents use to stand up to other countries and defend AMERICA… https://t.co/7NF5jXKNtI', 'With Votes in the House tomorrow, Democrats want to make it harder for Presidents to defend America, and stand up t… https://t.co/Y568qW7NQR', 'GAME OVER! https://t.co/yvMa6bPqfy', 'https://t.co/aX5WIX8B0O', 'For the first time in American History, we have replaced a disastrous Trade Deal that REWARDED outsourcing with a t… https://t.co/iui9EZODrb', 'Thanks to our pro-worker, pro-American economic policies, unemployment is at the lowest level in more than 50 years… https://t.co/2Fy6tj1ebM', 'USMCA is a cutting edge state of the art agreement that protects, defends and serves the great people of our Countr… https://t.co/3hCUVCsWyp', 'USMCA is a massive win for American manufacturers and auto workers! https://t.co/eOgFm31cAo', 'RT @WhiteHouse: LIVE: President @realDonaldTrump signs USMCA! https://t.co/IrVfdzcgzp', 'They will never be satisfied! https://t.co/MXHFQXWC80', '“The best evidence is the Transcript itself.”  Brad Blakeman  @FoxNews', 'There is much talk that certain Democrats are going to be voting with Republicans on the Impeachment Hoax, so that… https://t.co/sPjzPvzDir', 'On the Iraq War Resolution being voted on tomorrow in the House of Represenatives, we are down to 5000 soldiers, an… https://t.co/VetT0Kwlhg', 'Mark Penn, Harris Poll: “It’s time to end the Impeachment Trial.” @foxandfriends  Just another political Hoax by the Dems!', 'Remember Republicans, the Democrats already had 17 witnesses, we were given NONE! Witnesses are up to the House, no… https://t.co/Ri0hvx39Wm']\n"
     ]
    },
    {
     "data": {
      "text/plain": [
       "(array([2., 1., 0., 0., 0., 0., 1., 2., 0., 1.]),\n",
       " array([ 5. ,  6.1,  7.2,  8.3,  9.4, 10.5, 11.6, 12.7, 13.8, 14.9, 16. ]),\n",
       " <a list of 10 Patch objects>)"
      ]
     },
     "execution_count": 23,
     "metadata": {},
     "output_type": "execute_result"
    },
    {
     "data": {
      "image/png": "[encoded data removed]",
      "text/plain": [
       "<Figure size 432x288 with 1 Axes>"
      ]
     },
     "metadata": {
      "needs_background": "light"
     },
     "output_type": "display_data"
    }
   ],
   "source": [
    "import matplotlib.pyplot as plt\n",
    "\n",
    "# load file\n",
    "loadTweets(file)\n",
    "\n",
    "tweet_texts = [status.text for status in public_tweets]\n",
    "print(tweet_texts)\n",
    "\n",
    "plt.hist(tweet_lengths)"
   ]
  }
 ],
 "metadata": {
  "kernelspec": {
   "display_name": "Python 3",
   "language": "python",
   "name": "python3"
  },
  "language_info": {
   "codemirror_mode": {
    "name": "ipython",
    "version": 3
   },
   "file_extension": ".py",
   "mimetype": "text/x-python",
   "name": "python",
   "nbconvert_exporter": "python",
   "pygments_lexer": "ipython3",
   "version": "3.6.7"
  }
 },
 "nbformat": 4,
 "nbformat_minor": 4
}
